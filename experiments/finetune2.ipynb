{
 "cells": [
  {
   "cell_type": "code",
   "execution_count": 5,
   "source": [
    "import torch\n",
    "from transformers import AutoTokenizer, AutoModelForCausalLM\n",
    "from moondream import detect_device, LATEST_REVISION"
   ],
   "outputs": [],
   "metadata": {}
  },
  {
   "cell_type": "code",
   "execution_count": 6,
   "source": [
    "device, dtype = detect_device()\n",
    "print(device, dtype)"
   ],
   "outputs": [
    {
     "output_type": "stream",
     "name": "stdout",
     "text": [
      "cuda torch.float16\n"
     ]
    }
   ],
   "metadata": {}
  },
  {
   "cell_type": "code",
   "execution_count": 7,
   "source": [
    "model_id = \"vikhyatk/moondream2\"\n",
    "tokenizer = AutoTokenizer.from_pretrained(model_id, revision=LATEST_REVISION)\n",
    "moondream = AutoModelForCausalLM.from_pretrained(\n",
    "    model_id, trust_remote_code=True, revision=LATEST_REVISION\n",
    ").to(device=device, dtype=dtype)\n",
    "\n",
    "moondream.eval()\n",
    "print()"
   ],
   "outputs": [
    {
     "output_type": "stream",
     "name": "stderr",
     "text": [
      "Special tokens have been added in the vocabulary, make sure the associated word embeddings are fine-tuned or trained.\n"
     ]
    },
    {
     "output_type": "stream",
     "name": "stdout",
     "text": [
      "\n"
     ]
    }
   ],
   "metadata": {}
  },
  {
   "cell_type": "code",
   "execution_count": 8,
   "source": [
    "from IPython.display import display\n",
    "from torch.utils.data import Dataset\n",
    "from datasets import load_dataset\n",
    "\n",
    "\n",
    "class CaptchaDataset(Dataset):\n",
    "    def __init__(self, split=\"train\"):\n",
    "        self.data = load_dataset(\n",
    "            \"project-sloth/captcha-images\",\n",
    "            revision=\"refs/convert/parquet\",  # type: ignore\n",
    "        )[split]\n",
    "\n",
    "    def __len__(self):\n",
    "        return len(self.data)\n",
    "\n",
    "    def __getitem__(self, idx):\n",
    "        sample = self.data[idx]\n",
    "        return {\n",
    "            \"image\": sample[\"image\"],  # Should be a PIL image\n",
    "            \"qa\": [\n",
    "                {\n",
    "                    \"question\": \"What does the text say?\",\n",
    "                    \"answer\": sample[\"solution\"],\n",
    "                }\n",
    "            ],\n",
    "        }\n",
    "\n",
    "\n",
    "datasets = {\n",
    "    \"train\": CaptchaDataset(\"train\"),\n",
    "    \"val\": CaptchaDataset(\"validation\"),\n",
    "    \"test\": CaptchaDataset(\"test\"),\n",
    "}\n",
    "\n",
    "sample = datasets[\"train\"][0]\n",
    "display(sample[\"image\"])\n",
    "\n",
    "for qa in sample[\"qa\"]:\n",
    "    print(\"Question:\", qa[\"question\"])\n",
    "    print(\"Ground Truth:\", qa[\"answer\"])\n",
    "    print(\n",
    "        \"Moondream:\",\n",
    "        moondream.answer_question(\n",
    "            moondream.encode_image(sample[\"image\"]),\n",
    "            qa[\"question\"],\n",
    "            tokenizer=tokenizer,\n",
    "        ),\n",
    "    )"
   ],
   "outputs": [
    {
     "output_type": "display_data",
     "data": {
      "image/png": "[encoded data removed]",
      "image/jpeg": "[encoded data removed]",
      "text/plain": [
       "<PIL.JpegImagePlugin.JpegImageFile image mode=RGB size=200x50>"
      ]
     },
     "metadata": {}
    },
    {
     "output_type": "stream",
     "name": "stdout",
     "text": [
      "Question: What does the text say?\n",
      "Ground Truth: 000073\n",
      "Moondream: The text says \"number 0073\" on a white background.\n"
     ]
    }
   ],
   "metadata": {}
  },
  {
   "cell_type": "code",
   "execution_count": 9,
   "source": [
    "# Number of times to repeat the training dataset. Increasing this may cause the model to overfit or\n",
    "# lose generalization due to catastrophic forgetting. Decreasing it may cause the model to underfit.\n",
    "EPOCHS = 2\n",
    "\n",
    "# Number of samples to process in each batch.\n",
    "# Set this to the highest value that doesn't cause an\n",
    "# out-of-memory error.\n",
    "# Decrease it if you're running out of memory.\n",
    "# Batch size 8 currently uses around\n",
    "# 15 GB of GPU memory during fine-tuning.\n",
    "BATCH_SIZE = 8\n",
    "\n",
    "# Number of batches to process before updating the model. You can use this to simulate a higher batch\n",
    "# size than your GPU can handle. Set this to 1 to disable gradient accumulation.\n",
    "GRAD_ACCUM_STEPS = 1\n",
    "\n",
    "# Learning rate for the Adam optimizer. Needs to be tuned on a case-by-case basis.\n",
    "# As a general rule of thumb, increase it by 1.4 times each time you double\n",
    "# the effective batch size.\n",
    "#\n",
    "# Source: https://www.cs.princeton.edu/~smalladi/blog/2024/01/22/SDEs-ScalingRules/\n",
    "#\n",
    "# Note that we linearly warm the learning rate up from 0.1 * LR to LR over\n",
    "# the first 10% of the # training run, and then decay it back to 0.1 * LR over\n",
    "# the last 90% of the training run using a cosine schedule.\n",
    "LR = 3e-5\n",
    "\n",
    "# Whether to use Weights and Biases for logging training metrics.\n",
    "USE_WANDB = False"
   ],
   "outputs": [],
   "metadata": {}
  },
  {
   "cell_type": "code",
   "execution_count": 10,
   "source": [
    "from torch.utils.data import DataLoader\n",
    "from bitsandbytes.optim import Adam8bit\n",
    "import math\n",
    "from einops import rearrange\n",
    "from tqdm import tqdm\n",
    "\n",
    "# The current version of moondream uses \"<END>\" to denote the end of a response. In the future this\n",
    "# will be replaced with a special token.\n",
    "ANSWER_EOS = \"<END>\"\n",
    "\n",
    "# Number of tokens used to represent each image.\n",
    "IMG_TOKENS = 729\n",
    "\n",
    "\n",
    "def collate_fn(batch):\n",
    "    images = [sample[\"image\"] for sample in batch]\n",
    "    images = torch.stack(moondream.vision_encoder.preprocess(images))\n",
    "    images = rearrange(images, \"b c (h p1) (w p2) -> b (h w) (c p1 p2)\", p1=14, p2=14)\n",
    "\n",
    "    labels_acc = []\n",
    "    tokens_acc = []\n",
    "\n",
    "    for sample in batch:\n",
    "        toks = [tokenizer.bos_token_id]\n",
    "        labs = [-100] * (IMG_TOKENS + 1)\n",
    "\n",
    "        for qa in sample[\"qa\"]:\n",
    "            q_t = tokenizer(\n",
    "                f\"\\n\\nQuestion: {qa['question']}\\n\\nAnswer:\", add_special_tokens=False\n",
    "            ).input_ids\n",
    "            toks.extend(q_t)\n",
    "            labs.extend([-100] * len(q_t))\n",
    "\n",
    "            a_t = tokenizer(\n",
    "                f\" {qa['answer']}{ANSWER_EOS}\", add_special_tokens=False\n",
    "            ).input_ids\n",
    "            toks.extend(a_t)\n",
    "            labs.extend(a_t)\n",
    "\n",
    "        tokens_acc.append(toks)\n",
    "        labels_acc.append(labs)\n",
    "\n",
    "    max_len = -1\n",
    "    for labels in labels_acc:\n",
    "        max_len = max(max_len, len(labels))\n",
    "\n",
    "    attn_mask_acc = []\n",
    "\n",
    "    for i in range(len(batch)):\n",
    "        len_i = len(labels_acc[i])\n",
    "        pad_i = max_len - len_i\n",
    "\n",
    "        labels_acc[i].extend([-100] * pad_i)\n",
    "        tokens_acc[i].extend([tokenizer.eos_token_id] * pad_i)\n",
    "        attn_mask_acc.append([1] * len_i + [0] * pad_i)\n",
    "\n",
    "    return (\n",
    "        images.to(dtype=dtype),\n",
    "        torch.stack([torch.tensor(t, dtype=torch.long) for t in tokens_acc]),\n",
    "        torch.stack([torch.tensor(l, dtype=torch.long) for l in labels_acc]),\n",
    "        torch.stack([torch.tensor(a, dtype=torch.bool) for a in attn_mask_acc]),\n",
    "    )\n",
    "\n",
    "\n",
    "def compute_loss(batch):\n",
    "    images, tokens, labels, attn_mask = batch\n",
    "\n",
    "    images = images.to(device)\n",
    "    tokens = tokens.to(device)\n",
    "    labels = labels.to(device)\n",
    "    attn_mask = attn_mask.to(device)\n",
    "\n",
    "    with torch.no_grad():\n",
    "        img_embs = moondream.vision_encoder.encoder(images)\n",
    "        img_embs = moondream.vision_encoder.projection(img_embs)\n",
    "\n",
    "    tok_embs = moondream.text_model.get_input_embeddings()(tokens)\n",
    "    inputs_embeds = torch.cat(\n",
    "        (tok_embs[:, 0:1, :], img_embs, tok_embs[:, 1:, :]), dim=1\n",
    "    )\n",
    "\n",
    "    outputs = moondream.text_model(\n",
    "        inputs_embeds=inputs_embeds,\n",
    "        labels=labels,\n",
    "        attention_mask=attn_mask,\n",
    "    )\n",
    "\n",
    "    return outputs.loss\n",
    "\n",
    "\n",
    "def lr_schedule(step, max_steps):\n",
    "    x = step / max_steps\n",
    "    if x < 0.1:\n",
    "        return 0.1 * LR + 0.9 * LR * x / 0.1\n",
    "    else:\n",
    "        return 0.1 * LR + 0.9 * LR * (1 + math.cos(math.pi * (x - 0.1))) / 2\n",
    "\n",
    "\n",
    "dataloaders = {\n",
    "    \"train\": DataLoader(\n",
    "        datasets[\"train\"],\n",
    "        batch_size=BATCH_SIZE,\n",
    "        shuffle=True,\n",
    "        collate_fn=collate_fn,\n",
    "    ),\n",
    "    \"val\": DataLoader(\n",
    "        datasets[\"val\"],\n",
    "        batch_size=BATCH_SIZE,\n",
    "        collate_fn=collate_fn,\n",
    "    ),\n",
    "}\n",
    "\n",
    "moondream.text_model.train()\n",
    "moondream.text_model.transformer.gradient_checkpointing_enable()\n",
    "\n",
    "total_steps = EPOCHS * len(dataloaders[\"train\"]) // GRAD_ACCUM_STEPS\n",
    "optimizer = Adam8bit(\n",
    "    [\n",
    "        {\"params\": moondream.text_model.parameters()},\n",
    "    ],\n",
    "    lr=LR * 0.1,\n",
    "    betas=(0.9, 0.95),\n",
    "    eps=1e-6,\n",
    ")\n",
    "\n",
    "if USE_WANDB:\n",
    "    import wandb\n",
    "\n",
    "    wandb.init(\n",
    "        project=\"moondream-ft\",\n",
    "        config={\n",
    "            \"EPOCHS\": EPOCHS,\n",
    "            \"BATCH_SIZE\": BATCH_SIZE,\n",
    "            \"GRAD_ACCUM_STEPS\": GRAD_ACCUM_STEPS,\n",
    "            \"LR\": LR,\n",
    "        },\n",
    "    )\n",
    "\n",
    "i = 0\n",
    "for epoch in range(EPOCHS):\n",
    "    for batch in tqdm(dataloaders[\"train\"], desc=f\"Epoch {epoch + 1}/{EPOCHS}\"):\n",
    "        i += 1\n",
    "\n",
    "        loss = compute_loss(batch)\n",
    "        loss.backward()\n",
    "\n",
    "        if i % GRAD_ACCUM_STEPS == 0:\n",
    "            optimizer.step()\n",
    "            optimizer.zero_grad()\n",
    "\n",
    "            lr = lr_schedule(i / GRAD_ACCUM_STEPS, total_steps)\n",
    "            for param_group in optimizer.param_groups:\n",
    "                param_group[\"lr\"] = lr\n",
    "\n",
    "        if i % 100 == 0 and USE_WANDB:\n",
    "            # Calculate validation loss\n",
    "            val_loss = 0\n",
    "            for val_batch in tqdm(dataloaders[\"val\"], desc=\"Validation\"):\n",
    "                with torch.no_grad():\n",
    "                    val_loss += compute_loss(val_batch).item()\n",
    "            val_loss /= len(dataloaders[\"val\"])\n",
    "\n",
    "        if USE_WANDB:\n",
    "            wandb.log(\n",
    "                {\"loss/train\": loss.item(), \"lr\": optimizer.param_groups[0][\"lr\"]}\n",
    "                | ({\"loss/val\": val_loss} if i % 100 == 0 else {})\n",
    "            )\n",
    "\n",
    "if USE_WANDB:\n",
    "    wandb.finish()"
   ],
   "outputs": [
    {
     "output_type": "stream",
     "name": "stderr",
     "text": [
      "Epoch 1/2:   0%|          | 0/750 [00:00<?, ?it/s]`use_cache=True` is incompatible with gradient checkpointing. Setting `use_cache=False`...\n",
      "/home/j2y/miniconda3/envs/tiny/lib/python3.10/site-packages/torch/utils/checkpoint.py:429: UserWarning: torch.utils.checkpoint: please pass in use_reentrant=True or use_reentrant=False explicitly. The default value of use_reentrant will be updated to be False in the future. To maintain current behavior, pass use_reentrant=True. It is recommended that you use use_reentrant=False. Refer to docs for more details on the differences between the two variants.\n",
      "  warnings.warn(\n",
      "Epoch 1/2:   0%|          | 0/750 [00:01<?, ?it/s]\n"
     ]
    },
    {
     "output_type": "error",
     "ename": "OutOfMemoryError",
     "evalue": "CUDA out of memory. Tried to allocate 1.14 GiB. GPU 0 has a total capacty of 12.00 GiB of which 347.40 MiB is free. Including non-PyTorch memory, this process has 17179869184.00 GiB memory in use. Of the allocated memory 9.87 GiB is allocated by PyTorch, and 738.37 MiB is reserved by PyTorch but unallocated. If reserved but unallocated memory is large try setting max_split_size_mb to avoid fragmentation.  See documentation for Memory Management and PYTORCH_CUDA_ALLOC_CONF",
     "traceback": [
      "\u001b[0;31m---------------------------------------------------------------------------\u001b[0m",
      "\u001b[0;31mOutOfMemoryError\u001b[0m                          Traceback (most recent call last)",
      "File \u001b[1;32m/home/j2y/dev_repo/VLM/moondream/experiments/finetune2.py:145\u001b[0m\n\u001b[1;32m    142\u001b[0m \u001b[39mfor\u001b[39;00m batch \u001b[39min\u001b[39;00m tqdm(dataloaders[\u001b[39m\"\u001b[39m\u001b[39mtrain\u001b[39m\u001b[39m\"\u001b[39m], desc\u001b[39m=\u001b[39m\u001b[39mf\u001b[39m\u001b[39m\"\u001b[39m\u001b[39mEpoch \u001b[39m\u001b[39m{\u001b[39;00mepoch\u001b[39m \u001b[39m\u001b[39m+\u001b[39m\u001b[39m \u001b[39m\u001b[39m1\u001b[39m\u001b[39m}\u001b[39;00m\u001b[39m/\u001b[39m\u001b[39m{\u001b[39;00mEPOCHS\u001b[39m}\u001b[39;00m\u001b[39m\"\u001b[39m):\n\u001b[1;32m    143\u001b[0m     i \u001b[39m+\u001b[39m\u001b[39m=\u001b[39m \u001b[39m1\u001b[39m\n\u001b[0;32m--> 145\u001b[0m     loss \u001b[39m=\u001b[39m compute_loss(batch)\n\u001b[1;32m    146\u001b[0m     loss\u001b[39m.\u001b[39mbackward()\n\u001b[1;32m    148\u001b[0m     \u001b[39mif\u001b[39;00m i \u001b[39m%\u001b[39m GRAD_ACCUM_STEPS \u001b[39m==\u001b[39m \u001b[39m0\u001b[39m:\n",
      "File \u001b[1;32m/home/j2y/dev_repo/VLM/moondream/experiments/finetune2.py:83\u001b[0m\n\u001b[1;32m     78\u001b[0m tok_embs \u001b[39m=\u001b[39m moondream\u001b[39m.\u001b[39mtext_model\u001b[39m.\u001b[39mget_input_embeddings()(tokens)\n\u001b[1;32m     79\u001b[0m inputs_embeds \u001b[39m=\u001b[39m torch\u001b[39m.\u001b[39mcat(\n\u001b[1;32m     80\u001b[0m     (tok_embs[:, \u001b[39m0\u001b[39m:\u001b[39m1\u001b[39m, :], img_embs, tok_embs[:, \u001b[39m1\u001b[39m:, :]), dim\u001b[39m=\u001b[39m\u001b[39m1\u001b[39m\n\u001b[1;32m     81\u001b[0m )\n\u001b[0;32m---> 83\u001b[0m outputs \u001b[39m=\u001b[39m moondream\u001b[39m.\u001b[39;49mtext_model(\n\u001b[1;32m     84\u001b[0m     inputs_embeds\u001b[39m=\u001b[39;49minputs_embeds,\n\u001b[1;32m     85\u001b[0m     labels\u001b[39m=\u001b[39;49mlabels,\n\u001b[1;32m     86\u001b[0m     attention_mask\u001b[39m=\u001b[39;49mattn_mask,\n\u001b[1;32m     87\u001b[0m )\n\u001b[1;32m     89\u001b[0m \u001b[39mreturn\u001b[39;00m outputs\u001b[39m.\u001b[39mloss\n",
      "File \u001b[0;32m~/miniconda3/envs/tiny/lib/python3.10/site-packages/torch/nn/modules/module.py:1518\u001b[0m, in \u001b[0;36mModule._wrapped_call_impl\u001b[0;34m(self, *args, **kwargs)\u001b[0m\n\u001b[1;32m   1516\u001b[0m     \u001b[39mreturn\u001b[39;00m \u001b[39mself\u001b[39m\u001b[39m.\u001b[39m_compiled_call_impl(\u001b[39m*\u001b[39margs, \u001b[39m*\u001b[39m\u001b[39m*\u001b[39mkwargs)  \u001b[39m# type: ignore[misc]\u001b[39;00m\n\u001b[1;32m   1517\u001b[0m \u001b[39melse\u001b[39;00m:\n\u001b[0;32m-> 1518\u001b[0m     \u001b[39mreturn\u001b[39;00m \u001b[39mself\u001b[39;49m\u001b[39m.\u001b[39;49m_call_impl(\u001b[39m*\u001b[39;49margs, \u001b[39m*\u001b[39;49m\u001b[39m*\u001b[39;49mkwargs)\n",
      "File \u001b[0;32m~/miniconda3/envs/tiny/lib/python3.10/site-packages/torch/nn/modules/module.py:1527\u001b[0m, in \u001b[0;36mModule._call_impl\u001b[0;34m(self, *args, **kwargs)\u001b[0m\n\u001b[1;32m   1522\u001b[0m \u001b[39m# If we don't have any hooks, we want to skip the rest of the logic in\u001b[39;00m\n\u001b[1;32m   1523\u001b[0m \u001b[39m# this function, and just call forward.\u001b[39;00m\n\u001b[1;32m   1524\u001b[0m \u001b[39mif\u001b[39;00m \u001b[39mnot\u001b[39;00m (\u001b[39mself\u001b[39m\u001b[39m.\u001b[39m_backward_hooks \u001b[39mor\u001b[39;00m \u001b[39mself\u001b[39m\u001b[39m.\u001b[39m_backward_pre_hooks \u001b[39mor\u001b[39;00m \u001b[39mself\u001b[39m\u001b[39m.\u001b[39m_forward_hooks \u001b[39mor\u001b[39;00m \u001b[39mself\u001b[39m\u001b[39m.\u001b[39m_forward_pre_hooks\n\u001b[1;32m   1525\u001b[0m         \u001b[39mor\u001b[39;00m _global_backward_pre_hooks \u001b[39mor\u001b[39;00m _global_backward_hooks\n\u001b[1;32m   1526\u001b[0m         \u001b[39mor\u001b[39;00m _global_forward_hooks \u001b[39mor\u001b[39;00m _global_forward_pre_hooks):\n\u001b[0;32m-> 1527\u001b[0m     \u001b[39mreturn\u001b[39;00m forward_call(\u001b[39m*\u001b[39;49margs, \u001b[39m*\u001b[39;49m\u001b[39m*\u001b[39;49mkwargs)\n\u001b[1;32m   1529\u001b[0m \u001b[39mtry\u001b[39;00m:\n\u001b[1;32m   1530\u001b[0m     result \u001b[39m=\u001b[39m \u001b[39mNone\u001b[39;00m\n",
      "File \u001b[0;32m~/.cache/huggingface/modules/transformers_modules/vikhyatk/moondream2/2b705eea63f9bff6dae9b52c2daeb26bc10e4aeb/modeling_phi.py:1131\u001b[0m, in \u001b[0;36mPhiForCausalLM.forward\u001b[0;34m(self, input_ids, attention_mask, position_ids, past_key_values, inputs_embeds, labels, use_cache, output_attentions, output_hidden_states, return_dict)\u001b[0m\n\u001b[1;32m   1129\u001b[0m     \u001b[39m# Enable model parallelism\u001b[39;00m\n\u001b[1;32m   1130\u001b[0m     shift_labels \u001b[39m=\u001b[39m shift_labels\u001b[39m.\u001b[39mto(shift_logits\u001b[39m.\u001b[39mdevice)\n\u001b[0;32m-> 1131\u001b[0m     loss \u001b[39m=\u001b[39m loss_fct(shift_logits, shift_labels)\n\u001b[1;32m   1133\u001b[0m \u001b[39mif\u001b[39;00m \u001b[39mnot\u001b[39;00m return_dict:\n\u001b[1;32m   1134\u001b[0m     output \u001b[39m=\u001b[39m (logits,) \u001b[39m+\u001b[39m outputs[\u001b[39m1\u001b[39m:]\n",
      "File \u001b[0;32m~/miniconda3/envs/tiny/lib/python3.10/site-packages/torch/nn/modules/module.py:1518\u001b[0m, in \u001b[0;36mModule._wrapped_call_impl\u001b[0;34m(self, *args, **kwargs)\u001b[0m\n\u001b[1;32m   1516\u001b[0m     \u001b[39mreturn\u001b[39;00m \u001b[39mself\u001b[39m\u001b[39m.\u001b[39m_compiled_call_impl(\u001b[39m*\u001b[39margs, \u001b[39m*\u001b[39m\u001b[39m*\u001b[39mkwargs)  \u001b[39m# type: ignore[misc]\u001b[39;00m\n\u001b[1;32m   1517\u001b[0m \u001b[39melse\u001b[39;00m:\n\u001b[0;32m-> 1518\u001b[0m     \u001b[39mreturn\u001b[39;00m \u001b[39mself\u001b[39;49m\u001b[39m.\u001b[39;49m_call_impl(\u001b[39m*\u001b[39;49margs, \u001b[39m*\u001b[39;49m\u001b[39m*\u001b[39;49mkwargs)\n",
      "File \u001b[0;32m~/miniconda3/envs/tiny/lib/python3.10/site-packages/torch/nn/modules/module.py:1527\u001b[0m, in \u001b[0;36mModule._call_impl\u001b[0;34m(self, *args, **kwargs)\u001b[0m\n\u001b[1;32m   1522\u001b[0m \u001b[39m# If we don't have any hooks, we want to skip the rest of the logic in\u001b[39;00m\n\u001b[1;32m   1523\u001b[0m \u001b[39m# this function, and just call forward.\u001b[39;00m\n\u001b[1;32m   1524\u001b[0m \u001b[39mif\u001b[39;00m \u001b[39mnot\u001b[39;00m (\u001b[39mself\u001b[39m\u001b[39m.\u001b[39m_backward_hooks \u001b[39mor\u001b[39;00m \u001b[39mself\u001b[39m\u001b[39m.\u001b[39m_backward_pre_hooks \u001b[39mor\u001b[39;00m \u001b[39mself\u001b[39m\u001b[39m.\u001b[39m_forward_hooks \u001b[39mor\u001b[39;00m \u001b[39mself\u001b[39m\u001b[39m.\u001b[39m_forward_pre_hooks\n\u001b[1;32m   1525\u001b[0m         \u001b[39mor\u001b[39;00m _global_backward_pre_hooks \u001b[39mor\u001b[39;00m _global_backward_hooks\n\u001b[1;32m   1526\u001b[0m         \u001b[39mor\u001b[39;00m _global_forward_hooks \u001b[39mor\u001b[39;00m _global_forward_pre_hooks):\n\u001b[0;32m-> 1527\u001b[0m     \u001b[39mreturn\u001b[39;00m forward_call(\u001b[39m*\u001b[39;49margs, \u001b[39m*\u001b[39;49m\u001b[39m*\u001b[39;49mkwargs)\n\u001b[1;32m   1529\u001b[0m \u001b[39mtry\u001b[39;00m:\n\u001b[1;32m   1530\u001b[0m     result \u001b[39m=\u001b[39m \u001b[39mNone\u001b[39;00m\n",
      "File \u001b[0;32m~/miniconda3/envs/tiny/lib/python3.10/site-packages/torch/nn/modules/loss.py:1179\u001b[0m, in \u001b[0;36mCrossEntropyLoss.forward\u001b[0;34m(self, input, target)\u001b[0m\n\u001b[1;32m   1178\u001b[0m \u001b[39mdef\u001b[39;00m \u001b[39mforward\u001b[39m(\u001b[39mself\u001b[39m, \u001b[39minput\u001b[39m: Tensor, target: Tensor) \u001b[39m-\u001b[39m\u001b[39m>\u001b[39m Tensor:\n\u001b[0;32m-> 1179\u001b[0m     \u001b[39mreturn\u001b[39;00m F\u001b[39m.\u001b[39;49mcross_entropy(\u001b[39minput\u001b[39;49m, target, weight\u001b[39m=\u001b[39;49m\u001b[39mself\u001b[39;49m\u001b[39m.\u001b[39;49mweight,\n\u001b[1;32m   1180\u001b[0m                            ignore_index\u001b[39m=\u001b[39;49m\u001b[39mself\u001b[39;49m\u001b[39m.\u001b[39;49mignore_index, reduction\u001b[39m=\u001b[39;49m\u001b[39mself\u001b[39;49m\u001b[39m.\u001b[39;49mreduction,\n\u001b[1;32m   1181\u001b[0m                            label_smoothing\u001b[39m=\u001b[39;49m\u001b[39mself\u001b[39;49m\u001b[39m.\u001b[39;49mlabel_smoothing)\n",
      "File \u001b[0;32m~/miniconda3/envs/tiny/lib/python3.10/site-packages/torch/nn/functional.py:3053\u001b[0m, in \u001b[0;36mcross_entropy\u001b[0;34m(input, target, weight, size_average, ignore_index, reduce, reduction, label_smoothing)\u001b[0m\n\u001b[1;32m   3051\u001b[0m \u001b[39mif\u001b[39;00m size_average \u001b[39mis\u001b[39;00m \u001b[39mnot\u001b[39;00m \u001b[39mNone\u001b[39;00m \u001b[39mor\u001b[39;00m reduce \u001b[39mis\u001b[39;00m \u001b[39mnot\u001b[39;00m \u001b[39mNone\u001b[39;00m:\n\u001b[1;32m   3052\u001b[0m     reduction \u001b[39m=\u001b[39m _Reduction\u001b[39m.\u001b[39mlegacy_get_string(size_average, reduce)\n\u001b[0;32m-> 3053\u001b[0m \u001b[39mreturn\u001b[39;00m torch\u001b[39m.\u001b[39;49m_C\u001b[39m.\u001b[39;49m_nn\u001b[39m.\u001b[39;49mcross_entropy_loss(\u001b[39minput\u001b[39;49m, target, weight, _Reduction\u001b[39m.\u001b[39;49mget_enum(reduction), ignore_index, label_smoothing)\n",
      "\u001b[0;31mOutOfMemoryError\u001b[0m: CUDA out of memory. Tried to allocate 1.14 GiB. GPU 0 has a total capacty of 12.00 GiB of which 347.40 MiB is free. Including non-PyTorch memory, this process has 17179869184.00 GiB memory in use. Of the allocated memory 9.87 GiB is allocated by PyTorch, and 738.37 MiB is reserved by PyTorch but unallocated. If reserved but unallocated memory is large try setting max_split_size_mb to avoid fragmentation.  See documentation for Memory Management and PYTORCH_CUDA_ALLOC_CONF"
     ]
    }
   ],
   "metadata": {}
  },
  {
   "cell_type": "code",
   "execution_count": null,
   "source": [
    "moondream.save_pretrained(\"checkpoints/moondream-ft\")"
   ],
   "outputs": [
    {
     "output_type": "error",
     "ename": "",
     "evalue": "",
     "traceback": [
      "\u001b[1;31mCell was canceled due to an error in a previous cell."
     ]
    }
   ],
   "metadata": {}
  },
  {
   "cell_type": "markdown",
   "source": [
    " Now that training has completed, let's inspect a few samples and calculate accuracy."
   ],
   "metadata": {}
  },
  {
   "cell_type": "code",
   "execution_count": null,
   "source": [
    "moondream.eval()\n",
    "\n",
    "correct = 0\n",
    "\n",
    "for i, sample in enumerate(datasets[\"test\"]):  # type: ignore\n",
    "    md_answer = moondream.answer_question(\n",
    "        moondream.encode_image(sample[\"image\"]),\n",
    "        sample[\"qa\"][0][\"question\"],\n",
    "        tokenizer=tokenizer,\n",
    "    )\n",
    "\n",
    "    if md_answer == sample[\"qa\"][0][\"answer\"]:\n",
    "        correct += 1\n",
    "\n",
    "    if i < 3:\n",
    "        display(sample[\"image\"])\n",
    "        print(\"Question:\", sample[\"qa\"][0][\"question\"])\n",
    "        print(\"Ground Truth:\", sample[\"qa\"][0][\"answer\"])\n",
    "        print(\"Moondream:\", md_answer)\n",
    "\n",
    "print(f\"\\n\\nAccuracy: {correct / len(datasets['test']) * 100:.2f}%\")"
   ],
   "outputs": [
    {
     "output_type": "error",
     "ename": "",
     "evalue": "",
     "traceback": [
      "\u001b[1;31mCell was canceled due to an error in a previous cell."
     ]
    }
   ],
   "metadata": {}
  }
 ],
 "nbformat": 4,
 "nbformat_minor": 2,
 "metadata": {
  "language_info": {
   "codemirror_mode": {
    "name": "ipython",
    "version": 3
   },
   "file_extension": ".py",
   "mimetype": "text/x-python",
   "name": "python",
   "nbconvert_exporter": "python",
   "pygments_lexer": "ipython3",
   "version": 3
  }
 }
}